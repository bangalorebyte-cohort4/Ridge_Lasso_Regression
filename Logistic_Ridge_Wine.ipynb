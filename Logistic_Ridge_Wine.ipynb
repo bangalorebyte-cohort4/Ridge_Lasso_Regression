{
 "cells": [
  {
   "cell_type": "code",
   "execution_count": 108,
   "metadata": {
    "collapsed": true
   },
   "outputs": [],
   "source": [
    "import matplotlib.pyplot as plt\n",
    "import numpy as np\n",
    "import pandas as pd\n",
    "from math import sqrt\n",
    "from sklearn import linear_model as lm\n",
    "from sklearn import model_selection as ms\n",
    "from sklearn import preprocessing\n",
    "from sklearn.metrics import classification_report\n",
    "\n",
    "\n"
   ]
  },
  {
   "cell_type": "code",
   "execution_count": 109,
   "metadata": {},
   "outputs": [],
   "source": [
    "df1 = pd.read_csv(\"Wine.csv\")\n",
    "\n",
    "#create x and y variables\n",
    "y1 = df1[\"quality\"]\n",
    "y = y1 <= 5\n",
    "x = df1.drop([\"quality\"],axis = 1)\n",
    "\n",
    "#enforce one-hot encoding for y\n",
    "#onehot_encoder = OneHotEncoder(sparse=False)\n",
    "#integer_encoded = y.reshape(len(y), 1)\n",
    "#onehot_encoded = onehot_encoder.fit_transform(integer_encoded)\n",
    "#print(onehot_encoded)\n",
    "\n",
    "#create train and test variables\n",
    "x_train,x_test,y_train,y_test = ms.train_test_split(x,y,test_size= 0.2,stratify =y)\n"
   ]
  },
  {
   "cell_type": "code",
   "execution_count": null,
   "metadata": {},
   "outputs": [],
   "source": []
  },
  {
   "cell_type": "code",
   "execution_count": 110,
   "metadata": {},
   "outputs": [],
   "source": [
    "# data processing\n",
    "scaler = preprocessing.StandardScaler().fit(x_train)\n",
    "X_train_scaled = scaler.transform(x_train)\n",
    "X_test_scaled = scaler.transform(x_test)\n",
    "\n"
   ]
  },
  {
   "cell_type": "code",
   "execution_count": 111,
   "metadata": {},
   "outputs": [
    {
     "name": "stdout",
     "output_type": "stream",
     "text": [
      "Logistic Regression score for training set: 0.745113\n",
      "             precision    recall  f1-score   support\n",
      "\n",
      "      False       0.75      0.79      0.77       171\n",
      "       True       0.74      0.70      0.72       149\n",
      "\n",
      "avg / total       0.75      0.75      0.75       320\n",
      "\n"
     ]
    }
   ],
   "source": [
    "#First lets try the logistic\n",
    "\n",
    "model = lm.LogisticRegression()\n",
    "fit = model.fit(X_train_scaled,y_train)\n",
    "print('Logistic Regression score for training set: %f' % fit.score(X_train_scaled, y_train))\n",
    "#print(\"Alpha value:\",i)\n",
    "y_true, y_pred = y_test, fit.predict(X_test_scaled)\n",
    "print(classification_report(y_true, y_pred))\n",
    "\n",
    "\n",
    "#targets= ['class 3', 'class 4', 'class 5', 'class 6','class 7','class 8']\n",
    "#print(classification_report(y_test, y_pred, target_names=targets))"
   ]
  },
  {
   "cell_type": "code",
   "execution_count": 112,
   "metadata": {},
   "outputs": [
    {
     "name": "stdout",
     "output_type": "stream",
     "text": [
      "Ridge Regression score for training set: 0.743550\n",
      "Alpha value: 0.1\n",
      "             precision    recall  f1-score   support\n",
      "\n",
      "      False       0.75      0.79      0.77       171\n",
      "       True       0.74      0.70      0.72       149\n",
      "\n",
      "avg / total       0.75      0.75      0.75       320\n",
      "\n",
      "Ridge Regression score for training set: 0.743550\n",
      "Alpha value: 0.5\n",
      "             precision    recall  f1-score   support\n",
      "\n",
      "      False       0.75      0.79      0.77       171\n",
      "       True       0.74      0.70      0.72       149\n",
      "\n",
      "avg / total       0.75      0.75      0.75       320\n",
      "\n",
      "Ridge Regression score for training set: 0.743550\n",
      "Alpha value: 1\n",
      "             precision    recall  f1-score   support\n",
      "\n",
      "      False       0.75      0.79      0.77       171\n",
      "       True       0.74      0.70      0.72       149\n",
      "\n",
      "avg / total       0.75      0.75      0.75       320\n",
      "\n",
      "Ridge Regression score for training set: 0.743550\n",
      "Alpha value: 5\n",
      "             precision    recall  f1-score   support\n",
      "\n",
      "      False       0.75      0.79      0.77       171\n",
      "       True       0.74      0.70      0.72       149\n",
      "\n",
      "avg / total       0.75      0.75      0.75       320\n",
      "\n",
      "Ridge Regression score for training set: 0.744332\n",
      "Alpha value: 10\n",
      "             precision    recall  f1-score   support\n",
      "\n",
      "      False       0.75      0.79      0.77       171\n",
      "       True       0.74      0.70      0.72       149\n",
      "\n",
      "avg / total       0.75      0.75      0.75       320\n",
      "\n"
     ]
    }
   ],
   "source": [
    "alphas = [0.1,0.5,1,5,10]\n",
    "for i in alphas:\n",
    "    model = lm.RidgeClassifier(alpha=i)\n",
    "    fitted = model.fit(X_train_scaled,y_train)\n",
    "    print('Ridge Regression score for training set: %f' % fitted.score(X_train_scaled, y_train))\n",
    "    print(\"Alpha value:\",i)\n",
    "    y_true, y_pred = y_test, fit.predict(X_test_scaled)\n",
    "    print(classification_report(y_true, y_pred))"
   ]
  },
  {
   "cell_type": "code",
   "execution_count": null,
   "metadata": {
    "collapsed": true
   },
   "outputs": [],
   "source": []
  },
  {
   "cell_type": "code",
   "execution_count": null,
   "metadata": {
    "collapsed": true
   },
   "outputs": [],
   "source": []
  }
 ],
 "metadata": {
  "kernelspec": {
   "display_name": "Python 3",
   "language": "python",
   "name": "python3"
  },
  "language_info": {
   "codemirror_mode": {
    "name": "ipython",
    "version": 3
   },
   "file_extension": ".py",
   "mimetype": "text/x-python",
   "name": "python",
   "nbconvert_exporter": "python",
   "pygments_lexer": "ipython3",
   "version": "3.6.1"
  }
 },
 "nbformat": 4,
 "nbformat_minor": 2
}
